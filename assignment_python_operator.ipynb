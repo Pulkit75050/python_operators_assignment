{
 "cells": [
  {
   "cell_type": "code",
   "execution_count": 2,
   "id": "e3b79a22-689f-4a3c-b84a-ce7a46ab7c6e",
   "metadata": {},
   "outputs": [
    {
     "name": "stdout",
     "output_type": "stream",
     "text": [
      "9\n",
      "1\n",
      "20\n",
      "1.25\n"
     ]
    }
   ],
   "source": [
    "\"\"\"Q1. Calculate the sum, difference, product, and quotient of two numbers.\"\"\"\n",
    "a = 5\n",
    "b = 4 \n",
    "\n",
    "add = a+ b\n",
    "subtract = a-b \n",
    "product = a*b\n",
    "divide = a/b\n",
    " \n",
    "print(add)\n",
    "print(subtract)\n",
    "print(product)\n",
    "print(divide)"
   ]
  },
  {
   "cell_type": "code",
   "execution_count": 18,
   "id": "ce6ab271-5e73-40db-aaf7-c8b3d0f8ff09",
   "metadata": {},
   "outputs": [
    {
     "name": "stdout",
     "output_type": "stream",
     "text": [
      "7\n",
      "2\n",
      "12\n",
      "3.0\n"
     ]
    }
   ],
   "source": [
    "\"\"\" Q2. Perform various assignment operations on a variable.\"\"\"\n",
    "\n",
    "a = 5\n",
    "a += 2\n",
    "\n",
    "b = 4 \n",
    "b -= 2\n",
    "\n",
    "c = 4\n",
    "c *= 3\n",
    "\n",
    "d = 6 \n",
    "d /= 2\n",
    "\n",
    "print(a)\n",
    "print(b)\n",
    "print(c)\n",
    "print(d)"
   ]
  },
  {
   "cell_type": "code",
   "execution_count": 9,
   "id": "33acceb8-bf35-499a-94b2-dc85bd98359f",
   "metadata": {},
   "outputs": [
    {
     "data": {
      "text/plain": [
       "False"
      ]
     },
     "execution_count": 9,
     "metadata": {},
     "output_type": "execute_result"
    }
   ],
   "source": [
    "\"\"\"Q3. Compare two numbers and print the results.\"\"\"\n",
    "\n",
    "num1 = 25\n",
    "num2 = 28\n",
    "\n",
    "num1 == num2\n"
   ]
  },
  {
   "cell_type": "code",
   "execution_count": 20,
   "id": "1ebdae67-6fee-4142-90b8-715a4a4973aa",
   "metadata": {},
   "outputs": [
    {
     "name": "stdout",
     "output_type": "stream",
     "text": [
      "True\n",
      "False\n",
      "True\n"
     ]
    }
   ],
   "source": [
    "\"\"\"Q4. Check conditions using logical operators.\"\"\"\n",
    "\n",
    "result1 = (7>5) or (9<5)\n",
    "print(result1)\n",
    "\n",
    "result2 = (7>5) and (1>11) \n",
    "print(result2)\n",
    "\n",
    "result3 = not(2==4)\n",
    "print(result3)"
   ]
  },
  {
   "cell_type": "code",
   "execution_count": 22,
   "id": "e33ba62f-7e91-429f-bfd9-fa0fcbe6d502",
   "metadata": {},
   "outputs": [
    {
     "name": "stdout",
     "output_type": "stream",
     "text": [
      "140336019244016\n",
      "140336019244016\n",
      "140336019244368\n"
     ]
    }
   ],
   "source": [
    "\"\"\"Q5. Check the identity of variables.\"\"\"\n",
    "\n",
    "x = 25\n",
    "y = 25   # here x and y shows the same id.\n",
    "z = 36\n",
    "\n",
    "print(id(x))\n",
    "print(id(y))\n",
    "print(id(z))"
   ]
  },
  {
   "cell_type": "code",
   "execution_count": 26,
   "id": "f83f9dbb-6a61-441f-bd48-ff741f4c1418",
   "metadata": {},
   "outputs": [
    {
     "name": "stdout",
     "output_type": "stream",
     "text": [
      "0\n",
      "13\n",
      "-9\n",
      "13\n",
      "64\n",
      "2\n"
     ]
    }
   ],
   "source": [
    "\"\"\"Q6. Perform bitwise operations on any two integers.\"\"\"\n",
    "\n",
    "d=8\n",
    "f=5\n",
    "e=d&f\n",
    "e1=d|f\n",
    "e2=~d\n",
    "e3=d^f\n",
    "e4=d<<3\n",
    "e5=d>>2\n",
    "\n",
    "print(e)\n",
    "print(e1)\n",
    "print(e2)\n",
    "print(e3)\n",
    "print(e4)\n",
    "print(e5)"
   ]
  },
  {
   "cell_type": "code",
   "execution_count": 28,
   "id": "8e560392-27c3-497e-982b-ad28e9265dba",
   "metadata": {},
   "outputs": [
    {
     "name": "stdout",
     "output_type": "stream",
     "text": [
      "10\n",
      "-10\n"
     ]
    }
   ],
   "source": [
    "\"\"\"Q7. Use unary operators to change the sign of a number.\"\"\"\n",
    "num = 10\n",
    "result4 = +num\n",
    "result5 = -num\n",
    "print(result4)\n",
    "print(result5)"
   ]
  },
  {
   "cell_type": "code",
   "execution_count": null,
   "id": "320f09dd-949e-4903-8b2b-e8e1d0532026",
   "metadata": {},
   "outputs": [],
   "source": [
    "\"\"\"Q8. Use the ternary operator to assign values based on conditions.\"\"\"\n",
    " \n",
    "a= 20\n",
    "b= 30\n",
    "num4 = a if a<"
   ]
  },
  {
   "cell_type": "code",
   "execution_count": null,
   "id": "a3e4a240-916b-48f5-8cf8-f4fbf3488911",
   "metadata": {},
   "outputs": [],
   "source": []
  }
 ],
 "metadata": {
  "kernelspec": {
   "display_name": "Python 3 (ipykernel)",
   "language": "python",
   "name": "python3"
  },
  "language_info": {
   "codemirror_mode": {
    "name": "ipython",
    "version": 3
   },
   "file_extension": ".py",
   "mimetype": "text/x-python",
   "name": "python",
   "nbconvert_exporter": "python",
   "pygments_lexer": "ipython3",
   "version": "3.10.8"
  }
 },
 "nbformat": 4,
 "nbformat_minor": 5
}
